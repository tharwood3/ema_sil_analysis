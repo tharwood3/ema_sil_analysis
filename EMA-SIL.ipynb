{
 "cells": [
  {
   "cell_type": "markdown",
   "id": "6f1bc801-97ac-4620-b64f-564a83dc2878",
   "metadata": {},
   "source": [
    "# EMA - Stable Isotope Labeling Analysis Notebook"
   ]
  },
  {
   "cell_type": "markdown",
   "id": "39ce78f0-489e-4d54-af1b-ddbdbb5d9fc0",
   "metadata": {},
   "source": [
    "### Parameters\n",
    "The next code block sets parameters that are used throughout the remainder of the notebook."
   ]
  },
  {
   "cell_type": "code",
   "execution_count": null,
   "id": "354ef5fe-b111-4e2b-9fd0-9e80a40a5d6a",
   "metadata": {
    "tags": []
   },
   "outputs": [],
   "source": [
    "# set metatlas generated output parameters \n",
    "project_directory = \"/global/homes/t/tharwood/metabolomics_data/\"\n",
    "experiment = \"20240111_JGI_EY_508352_Set1Set2_final1_EXP120B_HILICZ_USHXG02558_Set1\"\n",
    "polarity = \"positive\" # 'positive' or 'negative'\n",
    "workflow_name = \"JGI-HILIC\"\n",
    "rt_alignment_number = 2\n",
    "analysis_number = 2\n",
    "\n",
    "short_group_pairs = [('POS_D-Light-No-DCMU', 'POS_F-Light-13Cbicarb-DCMU'),\n",
    "                     ('POS_C-Light-No-Ctrl-EtOH', 'POS_E-Light-13Cbicarb-Ctrl-EtOH'),\n",
    "                     ('POS_A-Light-No-No', 'POS_B-Light-13Cbicarb-No')]"
   ]
  },
  {
   "cell_type": "code",
   "execution_count": null,
   "id": "2f35506b",
   "metadata": {
    "tags": []
   },
   "outputs": [],
   "source": [
    "# pylint: disable=wrong-import-position,import-error,missing-class-docstring\n",
    "parameters = {k: v for k, v in globals().items() if k[0] != \"_\" and k not in [\"In\", \"Out\", \"get_ipython\", \"exit\", \"quit\", \"open\"]}\n",
    "\n",
    "import logging  # noqa: E402\n",
    "from pathlib import Path  # noqa: E402\n",
    "\n",
    "\n",
    "class StopExecution(Exception):\n",
    "    def _render_traceback_(self):\n",
    "        pass\n",
    "\n",
    "\n",
    "logger = logging.getLogger(\"metatlas.jupyter\")\n",
    "kernel_def = \"\"\"{\"argv\":[\"shifter\",\"--entrypoint\",\"--image=ghcr.io/biorack/metatlas/metatlas_shifter:latest\",\"/usr/local/bin/python\",\"-m\",\n",
    "                 \"ipykernel_launcher\",\"-f\",\"{connection_file}\"],\"display_name\": \"Metatlas Targeted\",\"language\": \"python\",\n",
    "                 \"metadata\": { \"debugger\": true }}\"\"\"\n",
    "kernel_file_name = Path.home() / \".local\" / \"share\" / \"jupyter\" / \"kernels\" / \"metatlas-targeted\" / \"kernel.json\"\n",
    "try:\n",
    "    has_root_kernel = Path(\"/root/.local/share/jupyter/kernels/papermill/kernel.json\").is_file()\n",
    "except PermissionError:\n",
    "    has_root_kernel = False\n",
    "if not has_root_kernel and not kernel_file_name.is_file():\n",
    "    kernel_file_name.parent.mkdir(parents=True, exist_ok=True)\n",
    "    with kernel_file_name.open(mode=\"w\", encoding=\"utf-8\") as f:\n",
    "        f.writelines(kernel_def)\n",
    "    logger.critical('CRITICAL: Notebook kernel has been installed. Set kernel to \"Metatlas Targeted\" and re-run notebook.')\n",
    "    raise StopExecution\n",
    "try:\n",
    "    from analysis_tools.stable_isotope_analysis import generate_outputs  # noqa: E402\n",
    "    from analysis_tools.noise_detection_gui import Dashboard  # noqa: E402\n",
    "except ImportError as err:\n",
    "    logger.critical('CRITICAL: Set notebook kernel to \"Metatlas Targeted\" and re-run notebook.')\n",
    "    raise StopExecution from err"
   ]
  },
  {
   "cell_type": "code",
   "execution_count": null,
   "id": "f4f5cccd-5db9-4aa5-8989-6baf1fb87481",
   "metadata": {
    "tags": []
   },
   "outputs": [],
   "source": [
    "compound_data, output_path = generate_outputs(\n",
    "                                     project_directory,\n",
    "                                     experiment,\n",
    "                                     polarity,\n",
    "                                     workflow_name,\n",
    "                                     rt_alignment_number,\n",
    "                                     analysis_number,\n",
    "                                     short_group_pairs\n",
    ")"
   ]
  },
  {
   "cell_type": "code",
   "execution_count": null,
   "id": "d7a9f715",
   "metadata": {
    "tags": []
   },
   "outputs": [],
   "source": [
    "dash = Dashboard(\n",
    "    compound_data,\n",
    "    output_path,\n",
    "    compound_idx=0,\n",
    "    plot_size=(1200, 800)\n",
    ")"
   ]
  },
  {
   "cell_type": "code",
   "execution_count": null,
   "id": "d59d0d0d-af82-4d0b-b18e-acba17b5ac96",
   "metadata": {},
   "outputs": [],
   "source": []
  }
 ],
 "metadata": {
  "kernelspec": {
   "display_name": "Metatlas Targeted",
   "language": "python",
   "name": "metatlas-targeted"
  },
  "language_info": {
   "codemirror_mode": {
    "name": "ipython",
    "version": 3
   },
   "file_extension": ".py",
   "mimetype": "text/x-python",
   "name": "python",
   "nbconvert_exporter": "python",
   "pygments_lexer": "ipython3",
   "version": "3.11.8"
  }
 },
 "nbformat": 4,
 "nbformat_minor": 5
}
