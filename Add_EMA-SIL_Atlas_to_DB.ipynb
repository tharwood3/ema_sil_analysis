{
 "cells": [
  {
   "cell_type": "markdown",
   "id": "906ddc0c-a20a-4365-a000-89d7ddd8b353",
   "metadata": {},
   "source": [
    "# Generate EMA-SIL Atlas and Add to Database\n",
    "## Parameters\n",
    "The next code block sets parameters that are used throughout the remainder of the notebook."
   ]
  },
  {
   "cell_type": "code",
   "execution_count": null,
   "id": "cd9f8b9f-b1b2-4190-9929-52f7559f8a0a",
   "metadata": {
    "tags": []
   },
   "outputs": [],
   "source": [
    "# Metatlas Targeted EMA Parameters\n",
    "project_directory = None\n",
    "experiment = None\n",
    "polarity = None # 'positive' or 'negative'\n",
    "workflow_name = None\n",
    "rt_alignment_number = None\n",
    "analysis_number = None\n",
    "\n",
    "# use None if user is the same as the creator of the original EMA output\n",
    "user = None\n",
    "\n",
    "# New Atlas Parameters:\n",
    "\n",
    "# atom that is isotopically labeled in experiment\n",
    "# use either 'C' or 'N'\n",
    "labeled_atom = None\n",
    "\n",
    "# atlas data in CSV file format\n",
    "csv_atlas_file_name = None\n",
    "\n",
    "# name to assign to atlas\n",
    "atlas_name = None\n",
    "\n",
    "# use 'positive' or 'negative'\n",
    "polarity = None\n",
    "\n",
    "# overrides any mz_tolerance value in the CSV file\n",
    "mz_tolerance = None\n",
    "\n",
    "# The rest of this block contains project independent parameters\n",
    "\n",
    "# to use an older version of the metatlas source code, set this to a commit id,\n",
    "# branch name, or tag. If None, then use the the \"main\" branch.\n",
    "source_code_version_id = None\n",
    "\n",
    "# Threshold for how much status information metatlas functions print in the notebook\n",
    "# levels are 'DEBUG', 'INFO', 'WARNING', 'ERROR', 'CRITICAL'\n",
    "log_level = \"INFO\""
   ]
  },
  {
   "cell_type": "code",
   "execution_count": null,
   "id": "38494648-9bb8-49c1-a6d2-7f0ff241a3a7",
   "metadata": {
    "tags": []
   },
   "outputs": [],
   "source": [
    "# pylint: disable=wrong-import-position,import-error,missing-class-docstring\n",
    "import logging  # noqa: E402\n",
    "from pathlib import Path  # noqa: E402\n",
    "from IPython.display import Markdown, display  # noqa: E402\n",
    "\n",
    "\n",
    "class StopExecution(Exception):\n",
    "    def _render_traceback_(self):\n",
    "        pass\n",
    "\n",
    "\n",
    "logger = logging.getLogger(\"metatlas.jupyter\")\n",
    "kernel_def = \"\"\"{\"argv\":[\"shifter\",\"--entrypoint\",\"--image=ghcr.io/biorack/metatlas/metatlas_shifter:latest\",\"/usr/local/bin/python\",\"-m\",\n",
    "                 \"ipykernel_launcher\",\"-f\",\"{connection_file}\"],\"display_name\": \"Metatlas Targeted\",\"language\": \"python\",\n",
    "                 \"metadata\": { \"debugger\": true }}\"\"\"\n",
    "kernel_file_name = Path.home() / \".local\" / \"share\" / \"jupyter\" / \"kernels\" / \"metatlas-targeted\" / \"kernel.json\"\n",
    "try:\n",
    "    has_root_kernel = Path(\"/root/.local/share/jupyter/kernels/papermill/kernel.json\").is_file()\n",
    "except PermissionError:\n",
    "    has_root_kernel = False\n",
    "if not has_root_kernel and not kernel_file_name.is_file():\n",
    "    kernel_file_name.parent.mkdir(parents=True, exist_ok=True)\n",
    "    with kernel_file_name.open(mode=\"w\", encoding=\"utf-8\") as f:\n",
    "        f.writelines(kernel_def)\n",
    "    logger.critical('CRITICAL: Notebook kernel has been installed. Set kernel to \"Metatlas Targeted\" and re-run notebook.')\n",
    "    raise StopExecution\n",
    "try:\n",
    "    from metatlas.tools import notebook  # noqa: E402\n",
    "    from analysis_tools.generate_sil_atlas import generate_atlas_file\n",
    "except ImportError as err:\n",
    "    logger.critical('CRITICAL: Set notebook kernel to \"Metatlas Targeted\" and re-run notebook.')\n",
    "    raise StopExecution from err\n",
    "notebook.setup(log_level, source_code_version_id)\n",
    "from metatlas.plots.dill2plots import make_atlas_from_spreadsheet  # noqa: E402\n",
    "from metatlas.io.metatlas_get_data_helper_fun import make_atlas_df  # noqa: E402"
   ]
  },
  {
   "cell_type": "code",
   "execution_count": null,
   "id": "097fbe93-721e-4bad-a4ad-170878f9ae74",
   "metadata": {
    "tags": []
   },
   "outputs": [],
   "source": [
    "labeled_atlas_path = generate_atlas_file(\n",
    "                            project_directory,\n",
    "                            experiment,\n",
    "                            polarity,\n",
    "                            workflow_name,\n",
    "                            rt_alignment_number,\n",
    "                            analysis_number,\n",
    "                            labeled_atom,\n",
    "                            mz_tolerance,\n",
    "                            csv_atlas_file_name,\n",
    "                            user=user\n",
    ")"
   ]
  },
  {
   "cell_type": "code",
   "execution_count": null,
   "id": "911f0000-9449-4abd-a189-d289c7d45255",
   "metadata": {
    "tags": []
   },
   "outputs": [],
   "source": [
    "assert labeled_atlas_path is not None\n",
    "assert atlas_name is not None\n",
    "atlas = make_atlas_from_spreadsheet(\n",
    "    labeled_atlas_path, atlas_name, filetype=\"csv\", polarity=polarity, store=True, mz_tolerance=mz_tolerance\n",
    ")\n",
    "atlas_df = make_atlas_df(atlas)\n",
    "display(Markdown(f\"### Atlas unique_id: {atlas.unique_id}\"))\n",
    "display(atlas_df)"
   ]
  }
 ],
 "metadata": {
  "kernelspec": {
   "display_name": "Metatlas Targeted",
   "language": "python",
   "name": "metatlas-targeted"
  },
  "language_info": {
   "codemirror_mode": {
    "name": "ipython",
    "version": 3
   },
   "file_extension": ".py",
   "mimetype": "text/x-python",
   "name": "python",
   "nbconvert_exporter": "python",
   "pygments_lexer": "ipython3",
   "version": "3.11.8"
  }
 },
 "nbformat": 4,
 "nbformat_minor": 5
}
